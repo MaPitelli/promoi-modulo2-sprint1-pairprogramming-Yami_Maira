{
 "cells": [
  {
   "cell_type": "code",
   "execution_count": 2,
   "metadata": {},
   "outputs": [],
   "source": [
    "import requests\n",
    "from bs4 import BeautifulSoup\n",
    "import pandas as pd"
   ]
  },
  {
   "cell_type": "code",
   "execution_count": 55,
   "metadata": {},
   "outputs": [
    {
     "name": "stdout",
     "output_type": "stream",
     "text": [
      "Lens diferentes\n"
     ]
    }
   ],
   "source": [
    "def scrape_coches_ocasion(url, diccionario):\n",
    "\n",
    "    llamada = requests.get(url)  # Realiza una solicitud GET a la URL proporcionada y almacena la respuesta en 'llamada'.\n",
    "\n",
    "    if llamada.status_code != 200:  # Comprueba si la respuesta no fue exitosa (código de estado distinto de 200).\n",
    "            print(f\"El motivo REASON por el que la llamada falló es {llamada.reason}\")  # Imprime la razón de la falla.\n",
    "            print(f\"El motivo TEXT por el que la llamada falló es {llamada.text}\")  # Imprime la razón de la falla.\n",
    "            return None\n",
    "    else:\n",
    "        soup = BeautifulSoup(llamada.text, 'html.parser')\n",
    "        spans = soup.find_all('span', {\"class\": \"cardVehicle_spot__e6YZx\"}) # Sopa de coches y precios originales\n",
    "        precios_descuento = soup.find_all('span', {\"class\":\"cardVehicle_finance__SG6JV\"}) # Sopa de precios con descuento\n",
    "        km = soup.find_all('span', {\"class\":\"characteristics_elements__Mb1S_\"}) # Sopa de km\n",
    "\n",
    "        for kilom in km: # Metiendo los Km en el diccionario\n",
    "            if kilom.get_text('data-test').endswith('Km'):\n",
    "                diccionario['km'].append(kilom.get_text('data-test'))\n",
    "\n",
    "        for desc in precios_descuento: # Metiendo los precios con descuento en el diccionario\n",
    "            if \"€\" in desc.text:\n",
    "                diccionario['precio_rebajado'].append(desc.text)\n",
    "\n",
    "        for nombre in spans: # Metiendo los coches en el diccionario\n",
    "            if nombre.get('data-test') == 'span-brand-model':\n",
    "                diccionario['coche'].append(nombre.text)\n",
    "\n",
    "        for precio in spans: # Metiendo los precios originales en el diccionario\n",
    "            try:\n",
    "                diccionario['precio_original'].append(precio.text)\n",
    "            except:\n",
    "                diccionario['precio_original'].append('Null')\n",
    "\n",
    "\n",
    "        # Verificar que todas las listas tengan el mismo len\n",
    "        if len(diccionario['coche']) == len(diccionario['precio_original']) == len(diccionario['precio_rebajado']) == len(diccionario['km']):\n",
    "            print('OK')\n",
    "        else: # Si no tienen el mismo len, buscar el problema y corregirlo\n",
    "            print('Lens diferentes')\n",
    "        #     coches_precios_copy = [i.text for i in coches_precios]    \n",
    "        #     counter = 0\n",
    "        #     for i in coches_precios_copy:\n",
    "        #         counter += 1\n",
    "        #         if counter %2 == 0 and \"€\" not in i:\n",
    "        #             index = counter -1\n",
    "        #             coches_precios_copy.insert(index, \"value\")\n",
    "        #         else:\n",
    "        #             pass\n",
    "        #     counter = 0\n",
    "        #     for valor in coches_precios_copy:\n",
    "        #         counter+=1\n",
    "        #         if valor == 'value':\n",
    "        #             index = counter//2-1\n",
    "        #             diccionario['precio_original'].insert(index, diccionario['precio_rebajado'][index])\n",
    "                  \n",
    "        return diccionario#, pd.DataFrame(diccionario)  \n",
    "\n",
    "\n",
    "url = \"https://www.ocasionplus.com/coches-ocasion?v2&orderBy=morePopular\"\n",
    "coches = {'coche':[], 'precio_rebajado':[], 'precio_original':[], 'km':[]} # Crea diccionario para almacenar todos los datos del DataFrame\n",
    "diccio = scrape_coches_ocasion(url, coches)\n"
   ]
  },
  {
   "cell_type": "code",
   "execution_count": 45,
   "metadata": {},
   "outputs": [],
   "source": [
    "llamada = requests.get(url)\n",
    "soup = BeautifulSoup(llamada.text, 'html.parser')\n",
    "coches = soup.find_all('span', {\"class\":\"cardVehicle_spot__e6YZx\"}) # Sopa de coches\n",
    "precios_originales = soup.find_all('span', {\"class\":\"cardVehicle_spot__e6YZx\"}) # Sopa de precios originales"
   ]
  },
  {
   "cell_type": "code",
   "execution_count": 43,
   "metadata": {},
   "outputs": [
    {
     "data": {
      "text/plain": [
       "'Ford Kuga'"
      ]
     },
     "execution_count": 43,
     "metadata": {},
     "output_type": "execute_result"
    }
   ],
   "source": [
    "coches[0].get_text('span', {\"data-test\":\"span-brand-model\"})\n",
    "   "
   ]
  },
  {
   "cell_type": "code",
   "execution_count": 47,
   "metadata": {},
   "outputs": [
    {
     "data": {
      "text/plain": [
       "'20.300€'"
      ]
     },
     "execution_count": 47,
     "metadata": {},
     "output_type": "execute_result"
    }
   ],
   "source": [
    "precios_originales[1].get_text('span', {\"data-test\":\"span-price\"})"
   ]
  },
  {
   "cell_type": "code",
   "execution_count": 48,
   "metadata": {},
   "outputs": [],
   "source": [
    "spans = soup.find_all('span', {\"class\": \"cardVehicle_spot__e6YZx\"})\n",
    "coches = [span.text for span in spans if span.get('data-test') == 'span-brand-model']\n",
    "precios_originales = [span.text for span in spans if span.get('data-test') == 'span-price']\n"
   ]
  },
  {
   "cell_type": "code",
   "execution_count": 49,
   "metadata": {},
   "outputs": [
    {
     "data": {
      "text/plain": [
       "['Ford Kuga',\n",
       " 'Nissan QASHQAI',\n",
       " 'Mercedes GLA',\n",
       " 'Opel Corsa',\n",
       " 'Mini Countryman',\n",
       " 'Lexus RX',\n",
       " 'KIA Ceed',\n",
       " 'Mazda CX-5',\n",
       " 'Seat Ibiza',\n",
       " 'Nissan X-TRAIL',\n",
       " 'BMW Serie 2 Active Tourer',\n",
       " 'Mercedes Clase A',\n",
       " 'Renault Arkana',\n",
       " 'Nissan Micra',\n",
       " 'Audi TT',\n",
       " 'Cupra Ateca',\n",
       " 'Volkswagen Caravelle',\n",
       " 'Mercedes Clase GLK',\n",
       " 'Land Rover Range Rover Evoque',\n",
       " 'Renault Mégane']"
      ]
     },
     "execution_count": 49,
     "metadata": {},
     "output_type": "execute_result"
    }
   ],
   "source": [
    "coches"
   ]
  },
  {
   "cell_type": "code",
   "execution_count": 50,
   "metadata": {},
   "outputs": [
    {
     "data": {
      "text/plain": [
       "['20.300€',\n",
       " '15.990€',\n",
       " '10.460€',\n",
       " '16.150€',\n",
       " '32.490€',\n",
       " '25.590€',\n",
       " '18.300€',\n",
       " '29.490€',\n",
       " '25.990€',\n",
       " '9.350€',\n",
       " '33.900€',\n",
       " '34.900€',\n",
       " '13.500€']"
      ]
     },
     "execution_count": 50,
     "metadata": {},
     "output_type": "execute_result"
    }
   ],
   "source": [
    "precios_originales"
   ]
  },
  {
   "cell_type": "code",
   "execution_count": null,
   "metadata": {},
   "outputs": [],
   "source": [
    "# <span class=\"cardVehicle_spot__e6YZx\" data-test=\"span-brand-model\">Nissan QASHQAI</span>\n",
    "# <span class=\"cardVehicle_spot__e6YZx\" data-test=\"span-price\">15.990€</span>"
   ]
  },
  {
   "cell_type": "code",
   "execution_count": 58,
   "metadata": {},
   "outputs": [
    {
     "data": {
      "text/plain": [
       "False"
      ]
     },
     "execution_count": 58,
     "metadata": {},
     "output_type": "execute_result"
    }
   ],
   "source": [
    "len(diccio['coche']) == len(diccio['precio_rebajado']) == len(diccio['precio_original']) == len(diccio['km'])"
   ]
  },
  {
   "cell_type": "code",
   "execution_count": 59,
   "metadata": {},
   "outputs": [
    {
     "name": "stdout",
     "output_type": "stream",
     "text": [
      "20\n",
      "20\n",
      "35\n",
      "20\n"
     ]
    }
   ],
   "source": [
    "print(len(diccio['coche']))\n",
    "print(len(diccio['precio_rebajado']))\n",
    "print(len(diccio['precio_original']))\n",
    "print(len(diccio['km']))"
   ]
  },
  {
   "cell_type": "code",
   "execution_count": 14,
   "metadata": {},
   "outputs": [],
   "source": [
    "llamada = requests.get(url)\n",
    "soup = BeautifulSoup(llamada.text, 'html.parser')\n",
    "coches_precios = soup.find_all('span', {\"class\":\"cardVehicle_spot__e6YZx\"})"
   ]
  },
  {
   "cell_type": "code",
   "execution_count": 29,
   "metadata": {},
   "outputs": [
    {
     "name": "stdout",
     "output_type": "stream",
     "text": [
      "Nissan QASHQAI\n",
      "15.990€\n",
      "Opel Corsa\n",
      "10.460€\n",
      "Lexus RX\n",
      "32.490€\n",
      "KIA Ceed\n",
      "25.590€\n",
      "Seat Ibiza\n",
      "Nissan X-TRAIL\n",
      "18.300€\n",
      "BMW Serie 2 Active Tourer\n",
      "Mercedes Clase A\n",
      "29.490€\n",
      "Renault Arkana\n",
      "25.990€\n",
      "Nissan Micra\n",
      "9.350€\n",
      "Audi TT\n",
      "Cupra Ateca\n",
      "33.900€\n",
      "Volkswagen Caravelle\n",
      "34.900€\n",
      "Mercedes Clase GLK\n",
      "Land Rover Range Rover Evoque\n",
      "Renault Mégane\n",
      "13.500€\n",
      "Seat Ibiza\n",
      "11.350€\n",
      "Mercedes Clase GLK\n",
      "Seat Ateca\n",
      "25.900€\n",
      "Citroën C3\n",
      "12.700€\n"
     ]
    }
   ],
   "source": [
    "for coche in coches_precios:\n",
    "    print(coche.text)\n"
   ]
  },
  {
   "cell_type": "code",
   "execution_count": 30,
   "metadata": {},
   "outputs": [
    {
     "name": "stdout",
     "output_type": "stream",
     "text": [
      "15.990€\n",
      "10.460€\n",
      "32.490€\n",
      "25.590€\n",
      "Nissan X-TRAIL\n",
      "BMW Serie 2 Active Tourer\n",
      "29.490€\n",
      "25.990€\n",
      "9.350€\n",
      "Cupra Ateca\n",
      "Volkswagen Caravelle\n",
      "Mercedes Clase GLK\n",
      "Renault Mégane\n",
      "Seat Ibiza\n",
      "Mercedes Clase GLK\n",
      "25.900€\n",
      "12.700€\n"
     ]
    }
   ],
   "source": [
    "# for nombre_coche in coches_precios:\n",
    "#     if '€' not in nombre_coche.text:\n",
    "#         nombre = nombre_coche\n",
    "\n",
    "for precio in coches_precios[1::2]:\n",
    "    if '€' not in precio.text:\n",
    "        precio = None\n",
    "    print(precio.text)\n",
    "\n",
    "\n"
   ]
  },
  {
   "cell_type": "code",
   "execution_count": 18,
   "metadata": {},
   "outputs": [],
   "source": [
    "llamada = requests.get(url)\n",
    "soup = BeautifulSoup(llamada.text, 'html.parser')\n",
    "precios_descuento = soup.find_all('span', {\"class\":\"cardVehicle_finance__SG6JV\"})"
   ]
  },
  {
   "cell_type": "code",
   "execution_count": 19,
   "metadata": {},
   "outputs": [
    {
     "name": "stdout",
     "output_type": "stream",
     "text": [
      "dCi 110 S&S Acenta 4x2 (110 CV)\n",
      "14.536€\n",
      "1.2 XEL Edition (75 CV)\n",
      "9.509€\n",
      "450h L Luxury Auto 4X4 (313 CV)\n",
      "29.536€\n",
      "1.6 T-GDi GT (204 CV)\n",
      "23.263€\n",
      "1.2 TSI Reference ITech (85 CV)\n",
      "9.390€\n",
      "1.6 DIG-T N-Connecta 4x2 7 plazas (163 CV)\n",
      "16.636€\n",
      "218d Active Tourer (150 CV)\n",
      "11.490€\n",
      "Mercedes-Benz A 200 (163 CV) Pack AMG\n",
      "26.809€\n",
      "Intens TCe (140 CV) EDC Microhíbrido\n",
      "23.627€\n",
      "1.2G Acenta (80 CV)\n",
      "8.500€\n",
      "Coupe 1.8 TFSI (160 CV)\n",
      "13.950€\n",
      "2.0 TSI S&S 4Drive DSG (300 CV)\n",
      "30.818€\n",
      "Trendline Batalla Corta 2.0 TDI BMT(102 CV) CAMPERIZADO\n",
      "31.727€\n",
      "Mercedes-Benz 350 Blue Efficiency 4Matic (306 CV)\n",
      "14.500€\n",
      "2.2L SD4 Prestige 4x4 Auto (190 CV)\n",
      "17.500€\n",
      "Intens Energy TCe (130 CV)\n",
      "12.272€\n",
      "1.0 EcoTSI S&S Style (95 CV)\n",
      "10.318€\n",
      "Mercedes-Benz 220 CDI 4Matic (170 CV)\n",
      "20.500€\n",
      "1.5 TSI X-Perience XM (150 CV)\n",
      "23.545€\n",
      "PureTech 110 S&S Shine (110 CV)\n",
      "11.545€\n"
     ]
    }
   ],
   "source": [
    "for i in precios_descuento:\n",
    "    print(i.text)"
   ]
  }
 ],
 "metadata": {
  "kernelspec": {
   "display_name": "base",
   "language": "python",
   "name": "python3"
  },
  "language_info": {
   "codemirror_mode": {
    "name": "ipython",
    "version": 3
   },
   "file_extension": ".py",
   "mimetype": "text/x-python",
   "name": "python",
   "nbconvert_exporter": "python",
   "pygments_lexer": "ipython3",
   "version": "3.11.9"
  }
 },
 "nbformat": 4,
 "nbformat_minor": 2
}
