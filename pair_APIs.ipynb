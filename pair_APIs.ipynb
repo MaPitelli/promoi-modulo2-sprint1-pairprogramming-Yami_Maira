{
 "cells": [
  {
   "cell_type": "markdown",
   "metadata": {},
   "source": [
    "1. Extracción de Datos a Nivel Nacional:\n",
    "\n",
    "Extraer datos de generación de energía renovable y no renovable a nivel nacional desde el 1 de enero de 2011 hasta el 31 de diciembre de 2022. La información debe ser recopilada a nivel mensual.\n",
    "\n",
    "Transformar los datos para incluir una columna nueva que identifique si la energía es renovable o no renovable.\n",
    "\n",
    "Almacenar los datos en un DataFrame con la siguiente estructura: Mirar tabla\n"
   ]
  },
  {
   "cell_type": "code",
   "execution_count": 1,
   "metadata": {},
   "outputs": [],
   "source": [
    "import requests\n",
    "import pandas as pd"
   ]
  },
  {
   "cell_type": "code",
   "execution_count": 4,
   "metadata": {},
   "outputs": [],
   "source": [
    "def llamar_api(url):\n",
    "    \"\"\"\n",
    "    Realiza una llamada a una API utilizando la URL proporcionada.\n",
    "\n",
    "    Parameters:\n",
    "    -----------\n",
    "    url (str): La URL de la API que se va a llamar.\n",
    "\n",
    "    Returns:\n",
    "    --------\n",
    "    dict or None: Un diccionario con los datos de respuesta de la API si la llamada fue exitosa (código de estado 200).\n",
    "                  None si la llamada falló o no se pudo autenticar correctamente.\n",
    "    \"\"\"\n",
    "    llamada = requests.get(url)  # Realiza una solicitud GET a la URL proporcionada y almacena la respuesta en 'llamada'.\n",
    "\n",
    "    print(f\"La llamada a la API nos ha dado una respuesta de tipo: {llamada.status_code}\")  # Imprime el código de estado de la respuesta.\n",
    "\n",
    "    if llamada.status_code != 200:  # Comprueba si la respuesta no fue exitosa (código de estado distinto de 200).\n",
    "        print(f\"El motivo REASON por el que la llamada falló es {llamada.reason}\")  # Imprime la razón de la falla.\n",
    "        print(f\"El motivo TEXT por el que la llamada falló es {llamada.text}\")  # Imprime la razón de la falla.\n",
    "    else:\n",
    "        return llamada.json()  # Si la llamada fue exitosa, devuelve los datos de respuesta en formato JSON."
   ]
  },
  {
   "cell_type": "code",
   "execution_count": 6,
   "metadata": {},
   "outputs": [],
   "source": [
    "fechas = [\n",
    "    {\"start_date\": \"2011-01-01T00:00\", \"end_date\": \"2012-12-31T23:59\"},\n",
    "    {\"start_date\": \"2013-01-01T00:00\", \"end_date\": \"2014-12-31T23:59\"},\n",
    "    {\"start_date\": \"2015-01-01T00:00\", \"end_date\": \"2016-12-31T23:59\"},\n",
    "    {\"start_date\": \"2017-01-01T00:00\", \"end_date\": \"2018-12-31T23:59\"},\n",
    "    {\"start_date\": \"2019-01-01T00:00\", \"end_date\": \"2020-12-31T23:59\"},\n",
    "    {\"start_date\": \"2021-01-01T00:00\", \"end_date\": \"2022-12-31T23:59\"}]\n"
   ]
  },
  {
   "cell_type": "code",
   "execution_count": 17,
   "metadata": {},
   "outputs": [
    {
     "name": "stdout",
     "output_type": "stream",
     "text": [
      "La llamada a la API nos ha dado una respuesta de tipo: 200\n",
      "La llamada a la API nos ha dado una respuesta de tipo: 200\n",
      "La llamada a la API nos ha dado una respuesta de tipo: 200\n",
      "La llamada a la API nos ha dado una respuesta de tipo: 200\n",
      "La llamada a la API nos ha dado una respuesta de tipo: 200\n",
      "La llamada a la API nos ha dado una respuesta de tipo: 200\n"
     ]
    }
   ],
   "source": [
    "respuesta_completa = []\n",
    "for fecha in fechas:\n",
    "    start_date = fecha['start_date']\n",
    "    end_date = fecha['end_date']\n",
    "    endpoint_mensual = f\"https://apidatos.ree.es/es/datos/generacion/evolucion-renovable-no-renovable?start_date={start_date}&end_date={end_date}&time_trunc=month\"\n",
    "    respuesta = llamar_api(endpoint_mensual)\n",
    "    respuesta_completa.append(respuesta)"
   ]
  },
  {
   "cell_type": "code",
   "execution_count": 19,
   "metadata": {},
   "outputs": [
    {
     "data": {
      "text/plain": [
       "6"
      ]
     },
     "execution_count": 19,
     "metadata": {},
     "output_type": "execute_result"
    }
   ],
   "source": [
    "len(respuesta_completa)"
   ]
  },
  {
   "cell_type": "code",
   "execution_count": 22,
   "metadata": {},
   "outputs": [
    {
     "data": {
      "text/plain": [
       "dict_keys(['data', 'included'])"
      ]
     },
     "execution_count": 22,
     "metadata": {},
     "output_type": "execute_result"
    }
   ],
   "source": [
    "respuesta_completa[0].keys()"
   ]
  },
  {
   "cell_type": "code",
   "execution_count": 23,
   "metadata": {},
   "outputs": [
    {
     "data": {
      "text/plain": [
       "{'type': 'Evolución de la generación renovable/no renovable',\n",
       " 'id': 'gen2',\n",
       " 'attributes': {'title': 'Evolución de la generación renovable/no renovable',\n",
       "  'last-update': '2019-06-12T15:32:24.000+02:00',\n",
       "  'description': None},\n",
       " 'meta': {'cache-control': {'cache': 'HIT',\n",
       "   'expireAt': '2024-07-24T08:57:30'}}}"
      ]
     },
     "execution_count": 23,
     "metadata": {},
     "output_type": "execute_result"
    }
   ],
   "source": [
    "respuesta_completa[0]['data']"
   ]
  },
  {
   "cell_type": "code",
   "execution_count": 31,
   "metadata": {},
   "outputs": [
    {
     "data": {
      "text/plain": [
       "[{'type': 'Renovable',\n",
       "  'id': '10299',\n",
       "  'groupId': None,\n",
       "  'attributes': {'title': 'Renovable',\n",
       "   'description': 'Energía renovable: incluye hidráulica, hidroeólica, eólica, solar fotovoltaica, solar térmica, otras renovables y residuos renovables.',\n",
       "   'color': '#6fb114',\n",
       "   'type': 'Renovable',\n",
       "   'magnitude': None,\n",
       "   'composite': False,\n",
       "   'last-update': '2019-06-12T15:32:24.000+02:00',\n",
       "   'values': [{'value': 9918268.536,\n",
       "     'percentage': 0.3827907635999176,\n",
       "     'datetime': '2011-01-01T00:00:00.000+01:00'},\n",
       "    {'value': 7991499.8525,\n",
       "     'percentage': 0.34539728666246566,\n",
       "     'datetime': '2011-02-01T00:00:00.000+01:00'},\n",
       "    {'value': 9606067.697,\n",
       "     'percentage': 0.38313491871765465,\n",
       "     'datetime': '2011-03-01T00:00:00.000+01:00'},\n",
       "    {'value': 8123455.767,\n",
       "     'percentage': 0.374645327606978,\n",
       "     'datetime': '2011-04-01T00:00:00.000+02:00'},\n",
       "    {'value': 7251163.8615,\n",
       "     'percentage': 0.3315832492156598,\n",
       "     'datetime': '2011-05-01T00:00:00.000+02:00'},\n",
       "    {'value': 6452804.794,\n",
       "     'percentage': 0.28622384987819477,\n",
       "     'datetime': '2011-06-01T00:00:00.000+02:00'},\n",
       "    {'value': 6498576.444,\n",
       "     'percentage': 0.2712500834748904,\n",
       "     'datetime': '2011-07-01T00:00:00.000+02:00'},\n",
       "    {'value': 5727787.99,\n",
       "     'percentage': 0.24520399433014006,\n",
       "     'datetime': '2011-08-01T00:00:00.000+02:00'},\n",
       "    {'value': 4933369.656,\n",
       "     'percentage': 0.21408577261430467,\n",
       "     'datetime': '2011-09-01T00:00:00.000+02:00'},\n",
       "    {'value': 5622637.3765,\n",
       "     'percentage': 0.25282066301127765,\n",
       "     'datetime': '2011-10-01T00:00:00.000+02:00'},\n",
       "    {'value': 6825133.5855,\n",
       "     'percentage': 0.3015785344449875,\n",
       "     'datetime': '2011-11-01T00:00:00.000+01:00'},\n",
       "    {'value': 7716287.29,\n",
       "     'percentage': 0.32277637531821257,\n",
       "     'datetime': '2011-12-01T00:00:00.000+01:00'},\n",
       "    {'value': 6312120.741,\n",
       "     'percentage': 0.24957251158889862,\n",
       "     'datetime': '2012-01-01T00:00:00.000+01:00'},\n",
       "    {'value': 7502629.5595,\n",
       "     'percentage': 0.2885251242532507,\n",
       "     'datetime': '2012-02-01T00:00:00.000+01:00'},\n",
       "    {'value': 6553101.205,\n",
       "     'percentage': 0.2746287640495351,\n",
       "     'datetime': '2012-03-01T00:00:00.000+01:00'},\n",
       "    {'value': 8278353.931,\n",
       "     'percentage': 0.3702940513799372,\n",
       "     'datetime': '2012-04-01T00:00:00.000+02:00'},\n",
       "    {'value': 7847048.208,\n",
       "     'percentage': 0.34633593051664907,\n",
       "     'datetime': '2012-05-01T00:00:00.000+02:00'},\n",
       "    {'value': 7260675.182,\n",
       "     'percentage': 0.3161955710466363,\n",
       "     'datetime': '2012-06-01T00:00:00.000+02:00'},\n",
       "    {'value': 6585571.5645,\n",
       "     'percentage': 0.2747475707672969,\n",
       "     'datetime': '2012-07-01T00:00:00.000+02:00'},\n",
       "    {'value': 6229610.234,\n",
       "     'percentage': 0.26016811867403233,\n",
       "     'datetime': '2012-08-01T00:00:00.000+02:00'},\n",
       "    {'value': 6396153.6045,\n",
       "     'percentage': 0.28314404283179273,\n",
       "     'datetime': '2012-09-01T00:00:00.000+02:00'},\n",
       "    {'value': 5797139.5945,\n",
       "     'percentage': 0.2541209372090953,\n",
       "     'datetime': '2012-10-01T00:00:00.000+02:00'},\n",
       "    {'value': 7500864.421,\n",
       "     'percentage': 0.3325326174972084,\n",
       "     'datetime': '2012-11-01T00:00:00.000+01:00'},\n",
       "    {'value': 9075454.507,\n",
       "     'percentage': 0.3763779222555788,\n",
       "     'datetime': '2012-12-01T00:00:00.000+01:00'}]}},\n",
       " {'type': 'No renovable',\n",
       "  'id': '10298',\n",
       "  'groupId': None,\n",
       "  'attributes': {'title': 'No renovable',\n",
       "   'description': None,\n",
       "   'color': '#666666',\n",
       "   'type': 'No renovable',\n",
       "   'magnitude': None,\n",
       "   'composite': False,\n",
       "   'last-update': '2019-06-12T15:32:24.000+02:00',\n",
       "   'values': [{'value': 15992149.058,\n",
       "     'percentage': 0.6172092364000824,\n",
       "     'datetime': '2011-01-01T00:00:00.000+01:00'},\n",
       "    {'value': 15145624.1525,\n",
       "     'percentage': 0.6546027133375344,\n",
       "     'datetime': '2011-02-01T00:00:00.000+01:00'},\n",
       "    {'value': 15466216.837,\n",
       "     'percentage': 0.6168650812823453,\n",
       "     'datetime': '2011-03-01T00:00:00.000+01:00'},\n",
       "    {'value': 13559600.629,\n",
       "     'percentage': 0.625354672393022,\n",
       "     'datetime': '2011-04-01T00:00:00.000+02:00'},\n",
       "    {'value': 14617141.8465,\n",
       "     'percentage': 0.6684167507843402,\n",
       "     'datetime': '2011-05-01T00:00:00.000+02:00'},\n",
       "    {'value': 16091804.248,\n",
       "     'percentage': 0.7137761501218053,\n",
       "     'datetime': '2011-06-01T00:00:00.000+02:00'},\n",
       "    {'value': 17459301.691,\n",
       "     'percentage': 0.7287499165251097,\n",
       "     'datetime': '2011-07-01T00:00:00.000+02:00'},\n",
       "    {'value': 17631488.867,\n",
       "     'percentage': 0.7547960056698598,\n",
       "     'datetime': '2011-08-01T00:00:00.000+02:00'},\n",
       "    {'value': 18110523.433,\n",
       "     'percentage': 0.7859142273856954,\n",
       "     'datetime': '2011-09-01T00:00:00.000+02:00'},\n",
       "    {'value': 16616990.1505,\n",
       "     'percentage': 0.7471793369887224,\n",
       "     'datetime': '2011-10-01T00:00:00.000+02:00'},\n",
       "    {'value': 15806230.4075,\n",
       "     'percentage': 0.6984214655550125,\n",
       "     'datetime': '2011-11-01T00:00:00.000+01:00'},\n",
       "    {'value': 16189698.03,\n",
       "     'percentage': 0.6772236246817874,\n",
       "     'datetime': '2011-12-01T00:00:00.000+01:00'},\n",
       "    {'value': 18979609.91,\n",
       "     'percentage': 0.7504274884111014,\n",
       "     'datetime': '2012-01-01T00:00:00.000+01:00'},\n",
       "    {'value': 18500754.3015,\n",
       "     'percentage': 0.7114748757467492,\n",
       "     'datetime': '2012-02-01T00:00:00.000+01:00'},\n",
       "    {'value': 17308569.759,\n",
       "     'percentage': 0.7253712359504648,\n",
       "     'datetime': '2012-03-01T00:00:00.000+01:00'},\n",
       "    {'value': 14077808.422,\n",
       "     'percentage': 0.6297059486200628,\n",
       "     'datetime': '2012-04-01T00:00:00.000+02:00'},\n",
       "    {'value': 14810283.927,\n",
       "     'percentage': 0.653664069483351,\n",
       "     'datetime': '2012-05-01T00:00:00.000+02:00'},\n",
       "    {'value': 15701933.554,\n",
       "     'percentage': 0.6838044289533636,\n",
       "     'datetime': '2012-06-01T00:00:00.000+02:00'},\n",
       "    {'value': 17383963.6205,\n",
       "     'percentage': 0.725252429232703,\n",
       "     'datetime': '2012-07-01T00:00:00.000+02:00'},\n",
       "    {'value': 17714946.331,\n",
       "     'percentage': 0.7398318813259677,\n",
       "     'datetime': '2012-08-01T00:00:00.000+02:00'},\n",
       "    {'value': 16193598.0305,\n",
       "     'percentage': 0.7168559571682073,\n",
       "     'datetime': '2012-09-01T00:00:00.000+02:00'},\n",
       "    {'value': 17015382.8925,\n",
       "     'percentage': 0.7458790627909048,\n",
       "     'datetime': '2012-10-01T00:00:00.000+02:00'},\n",
       "    {'value': 15055913.55,\n",
       "     'percentage': 0.6674673825027916,\n",
       "     'datetime': '2012-11-01T00:00:00.000+01:00'},\n",
       "    {'value': 15037156.702,\n",
       "     'percentage': 0.6236220777444212,\n",
       "     'datetime': '2012-12-01T00:00:00.000+01:00'}]}}]"
      ]
     },
     "execution_count": 31,
     "metadata": {},
     "output_type": "execute_result"
    }
   ],
   "source": [
    "respuesta_completa[0]['included'] # lista 'included'"
   ]
  },
  {
   "cell_type": "code",
   "execution_count": 37,
   "metadata": {},
   "outputs": [
    {
     "data": {
      "text/plain": [
       "{'type': 'Renovable',\n",
       " 'id': '10299',\n",
       " 'groupId': None,\n",
       " 'attributes': {'title': 'Renovable',\n",
       "  'description': 'Energía renovable: incluye hidráulica, hidroeólica, eólica, solar fotovoltaica, solar térmica, otras renovables y residuos renovables.',\n",
       "  'color': '#6fb114',\n",
       "  'type': 'Renovable',\n",
       "  'magnitude': None,\n",
       "  'composite': False,\n",
       "  'last-update': '2019-06-12T15:32:24.000+02:00',\n",
       "  'values': [{'value': 9918268.536,\n",
       "    'percentage': 0.3827907635999176,\n",
       "    'datetime': '2011-01-01T00:00:00.000+01:00'},\n",
       "   {'value': 7991499.8525,\n",
       "    'percentage': 0.34539728666246566,\n",
       "    'datetime': '2011-02-01T00:00:00.000+01:00'},\n",
       "   {'value': 9606067.697,\n",
       "    'percentage': 0.38313491871765465,\n",
       "    'datetime': '2011-03-01T00:00:00.000+01:00'},\n",
       "   {'value': 8123455.767,\n",
       "    'percentage': 0.374645327606978,\n",
       "    'datetime': '2011-04-01T00:00:00.000+02:00'},\n",
       "   {'value': 7251163.8615,\n",
       "    'percentage': 0.3315832492156598,\n",
       "    'datetime': '2011-05-01T00:00:00.000+02:00'},\n",
       "   {'value': 6452804.794,\n",
       "    'percentage': 0.28622384987819477,\n",
       "    'datetime': '2011-06-01T00:00:00.000+02:00'},\n",
       "   {'value': 6498576.444,\n",
       "    'percentage': 0.2712500834748904,\n",
       "    'datetime': '2011-07-01T00:00:00.000+02:00'},\n",
       "   {'value': 5727787.99,\n",
       "    'percentage': 0.24520399433014006,\n",
       "    'datetime': '2011-08-01T00:00:00.000+02:00'},\n",
       "   {'value': 4933369.656,\n",
       "    'percentage': 0.21408577261430467,\n",
       "    'datetime': '2011-09-01T00:00:00.000+02:00'},\n",
       "   {'value': 5622637.3765,\n",
       "    'percentage': 0.25282066301127765,\n",
       "    'datetime': '2011-10-01T00:00:00.000+02:00'},\n",
       "   {'value': 6825133.5855,\n",
       "    'percentage': 0.3015785344449875,\n",
       "    'datetime': '2011-11-01T00:00:00.000+01:00'},\n",
       "   {'value': 7716287.29,\n",
       "    'percentage': 0.32277637531821257,\n",
       "    'datetime': '2011-12-01T00:00:00.000+01:00'},\n",
       "   {'value': 6312120.741,\n",
       "    'percentage': 0.24957251158889862,\n",
       "    'datetime': '2012-01-01T00:00:00.000+01:00'},\n",
       "   {'value': 7502629.5595,\n",
       "    'percentage': 0.2885251242532507,\n",
       "    'datetime': '2012-02-01T00:00:00.000+01:00'},\n",
       "   {'value': 6553101.205,\n",
       "    'percentage': 0.2746287640495351,\n",
       "    'datetime': '2012-03-01T00:00:00.000+01:00'},\n",
       "   {'value': 8278353.931,\n",
       "    'percentage': 0.3702940513799372,\n",
       "    'datetime': '2012-04-01T00:00:00.000+02:00'},\n",
       "   {'value': 7847048.208,\n",
       "    'percentage': 0.34633593051664907,\n",
       "    'datetime': '2012-05-01T00:00:00.000+02:00'},\n",
       "   {'value': 7260675.182,\n",
       "    'percentage': 0.3161955710466363,\n",
       "    'datetime': '2012-06-01T00:00:00.000+02:00'},\n",
       "   {'value': 6585571.5645,\n",
       "    'percentage': 0.2747475707672969,\n",
       "    'datetime': '2012-07-01T00:00:00.000+02:00'},\n",
       "   {'value': 6229610.234,\n",
       "    'percentage': 0.26016811867403233,\n",
       "    'datetime': '2012-08-01T00:00:00.000+02:00'},\n",
       "   {'value': 6396153.6045,\n",
       "    'percentage': 0.28314404283179273,\n",
       "    'datetime': '2012-09-01T00:00:00.000+02:00'},\n",
       "   {'value': 5797139.5945,\n",
       "    'percentage': 0.2541209372090953,\n",
       "    'datetime': '2012-10-01T00:00:00.000+02:00'},\n",
       "   {'value': 7500864.421,\n",
       "    'percentage': 0.3325326174972084,\n",
       "    'datetime': '2012-11-01T00:00:00.000+01:00'},\n",
       "   {'value': 9075454.507,\n",
       "    'percentage': 0.3763779222555788,\n",
       "    'datetime': '2012-12-01T00:00:00.000+01:00'}]}}"
      ]
     },
     "execution_count": 37,
     "metadata": {},
     "output_type": "execute_result"
    }
   ],
   "source": [
    "respuesta_completa[0]['included'][0] # Elemento cero de la lista 'included' es un diccionário"
   ]
  },
  {
   "cell_type": "code",
   "execution_count": 38,
   "metadata": {},
   "outputs": [
    {
     "data": {
      "text/plain": [
       "'Renovable'"
      ]
     },
     "execution_count": 38,
     "metadata": {},
     "output_type": "execute_result"
    }
   ],
   "source": [
    "respuesta_completa[0]['included'][0]['type'] # Tipo de energía"
   ]
  },
  {
   "cell_type": "code",
   "execution_count": null,
   "metadata": {},
   "outputs": [],
   "source": [
    "def filtrar_energias(respuesta): # Respuesta en una lista con 6 elementos de tipo diccionario\n",
    "    diccionario_filtrado = {\n",
    "        'tipo_energia':[],\n",
    "        'tipo_generacion':[],\n",
    "        'fecha':[],\n",
    "        'valor':[]\n",
    "    }\n",
    "    for meses in respuesta:\n",
    "        pass\n",
    "    \n",
    "    return diccionario_filtrado"
   ]
  }
 ],
 "metadata": {
  "kernelspec": {
   "display_name": "base",
   "language": "python",
   "name": "python3"
  },
  "language_info": {
   "codemirror_mode": {
    "name": "ipython",
    "version": 3
   },
   "file_extension": ".py",
   "mimetype": "text/x-python",
   "name": "python",
   "nbconvert_exporter": "python",
   "pygments_lexer": "ipython3",
   "version": "3.11.9"
  }
 },
 "nbformat": 4,
 "nbformat_minor": 2
}
