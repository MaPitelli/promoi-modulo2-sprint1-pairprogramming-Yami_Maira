{
 "cells": [
  {
   "cell_type": "markdown",
   "metadata": {},
   "source": [
    "| id_alumna | nombre          | dirección       | id_asignatura | asignatura       | nota |\n",
    "|-----------|-----------------|-----------------|---------------|------------------|------|\n",
    "| 1         | Cristina Marín  | Cuenca, España  | 101           | Bases de datos   | 8    |\n",
    "| 1         | Cristina Marín  | Cuenca, España  | 102           | Extracción       | 9    |\n",
    "| 1         | Cristina Marín  | Cuenca, España  | 103           | Limpieza         | 8    |\n",
    "| 2         | Marta López     | Toledo, España  | 101           | Bases de datos   | 7    |\n",
    "| 2         | Marta López     | Toledo, España  | 103           | Limpieza         | 9    |\n",
    "| 3         | Rocío Pérez     | Nantes, Francia | 101           | Bases de datos   | 10   |\n",
    "| 3         | Rocío Pérez     | Nantes, Francia | 102           | Extracción       | 7    |\n",
    "| 4         | Elena Rodriguez | Monterrey, México| 101           | Bases de datos   | 10   |\n",
    "| 4         | Elena Rodriguez | Monterrey, México| 102           | Extracción       | 9    |\n",
    "| 4         | Elena Rodriguez | Monterrey, México| 103           | Limpieza         | 7    |\n"
   ]
  },
  {
   "cell_type": "markdown",
   "metadata": {},
   "source": [
    "# 1FN\n",
    "\n",
    "| id_alumna | nombre   | apellido   | ciudad     | país       | id_asignatura | asignatura       | nota |\n",
    "|-----------|----------|------------|------------|------------|---------------|------------------|------|\n",
    "| 1         | Cristina | Marín      | Cuenca     | España     | 101           | Bases de datos   | 8    |\n",
    "| 1         | Cristina | Marín      | Cuenca     | España     | 102           | Extracción       | 9    |\n",
    "| 1         | Cristina | Marín      | Cuenca     | España     | 103           | Limpieza         | 8    |\n",
    "| 2         | Marta    | López      | Toledo     | España     | 101           | Bases de datos   | 7    |\n",
    "| 2         | Marta    | López      | Toledo     | España     | 103           | Limpieza         | 9    |\n",
    "| 3         | Rocío    | Pérez      | Nantes     | Francia    | 101           | Bases de datos   | 10   |\n",
    "| 3         | Rocío    | Pérez      | Nantes     | Francia    | 102           | Extracción       | 7    |\n",
    "| 4         | Elena    | Rodriguez  | Monterrey  | México     | 101           | Bases de datos   | 10   |\n",
    "| 4         | Elena    | Rodriguez  | Monterrey  | México     | 102           | Extracción       | 9    |\n",
    "| 4         | Elena    | Rodriguez  | Monterrey  | México     | 103           | Limpieza         | 7    |\n"
   ]
  },
  {
   "cell_type": "markdown",
   "metadata": {},
   "source": [
    "# 2FN\n",
    "\n",
    "| id_alumna | nombre   | apellido   | ciudad     | país       |\n",
    "|-----------|----------|------------|------------|------------|\n",
    "| 1         | Cristina | Marín      | Cuenca     | España     |\n",
    "| 2         | Marta    | López      | Toledo     | España     |\n",
    "| 3         | Rocío    | Pérez      | Nantes     | Francia    |\n",
    "| 4         | Elena    | Rodriguez  | Monterrey  | México     |\n",
    "\n",
    "\n",
    "##\n",
    "\n",
    "\n",
    "\n",
    "| id_asignatura | asignatura     |\n",
    "|---------------|----------------|\n",
    "| 101           | Bases de datos |\n",
    "| 102           | Extracción     |\n",
    "| 103           | Limpieza       |\n",
    "\n",
    "\n",
    "##\n",
    "\n",
    "\n",
    "| id_alumna | id_asignatura | nota |\n",
    "|-----------|---------------|------|\n",
    "| 1         | 101           | 8    |\n",
    "| 1         | 102           | 9    |\n",
    "| 1         | 103           | 8    |\n",
    "| 2         | 101           | 7    |\n",
    "| 2         | 103           | 9    |\n",
    "| 3         | 101           | 10   |\n",
    "| 3         | 102           | 7    |\n",
    "| 4         | 101           | 10   |\n",
    "| 4         | 102           | 9    |\n",
    "| 4         | 103           | 7    |\n"
   ]
  },
  {
   "cell_type": "markdown",
   "metadata": {},
   "source": [
    "Justificación para 3FN\n",
    "Tabla Alumna:\n",
    "\n",
    "Cada atributo (nombre, apellido, ciudad, país) depende únicamente de id_alumna, que es la clave primaria.\n",
    "No hay dependencias transitivas entre los atributos no clave.\n",
    "Tabla Asignatura:\n",
    "\n",
    "Cada atributo (asignatura) depende únicamente de id_asignatura, que es la clave primaria.\n",
    "Tabla Alumna_Asignatura:\n",
    "\n",
    "La nota depende únicamente de la combinación de id_alumna y id_asignatura, que es la clave primaria compuesta.\n",
    "No hay dependencias transitivas en esta tabla.\n",
    "Con estas tres tablas, se logra cumplir con la primera (1FN), segunda (2FN) y tercera forma normal (3FN), asegurando la eliminación de redundancias y dependencias no deseadas."
   ]
  }
 ],
 "metadata": {
  "kernelspec": {
   "display_name": "base",
   "language": "python",
   "name": "python3"
  },
  "language_info": {
   "codemirror_mode": {
    "name": "ipython",
    "version": 3
   },
   "file_extension": ".py",
   "mimetype": "text/x-python",
   "name": "python",
   "nbconvert_exporter": "python",
   "pygments_lexer": "ipython3",
   "version": "3.11.9"
  }
 },
 "nbformat": 4,
 "nbformat_minor": 2
}
